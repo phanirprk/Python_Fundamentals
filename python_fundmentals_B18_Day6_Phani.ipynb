{
 "cells": [
  {
   "cell_type": "code",
   "execution_count": null,
   "metadata": {},
   "outputs": [],
   "source": [
    "#Day 6"
   ]
  },
  {
   "cell_type": "code",
   "execution_count": null,
   "metadata": {},
   "outputs": [],
   "source": [
    "# Introduction to Slicing of lists"
   ]
  },
  {
   "cell_type": "code",
   "execution_count": 1,
   "metadata": {},
   "outputs": [],
   "source": [
    "Students = ['a','b','c','d','e','f','g','h']"
   ]
  },
  {
   "cell_type": "code",
   "execution_count": 4,
   "metadata": {},
   "outputs": [
    {
     "name": "stdout",
     "output_type": "stream",
     "text": [
      "['a', 'b']\n"
     ]
    }
   ],
   "source": [
    "print(Students[0:2]) # last value is exclusive"
   ]
  },
  {
   "cell_type": "code",
   "execution_count": 6,
   "metadata": {},
   "outputs": [
    {
     "name": "stdout",
     "output_type": "stream",
     "text": [
      "['c', 'd']\n",
      "['e', 'f']\n",
      "['g', 'h']\n"
     ]
    }
   ],
   "source": [
    "print(Students[2:4])\n",
    "print(Students[4:6])\n",
    "print(Students[6:8])"
   ]
  },
  {
   "cell_type": "code",
   "execution_count": 10,
   "metadata": {},
   "outputs": [
    {
     "name": "stdout",
     "output_type": "stream",
     "text": [
      "['a', 'c', 'e', 'g']\n",
      "['b', 'd', 'f', 'h']\n"
     ]
    }
   ],
   "source": [
    "print(Students[0:7:2])\n",
    "print(Students[1:8:2])"
   ]
  },
  {
   "cell_type": "code",
   "execution_count": 11,
   "metadata": {},
   "outputs": [
    {
     "name": "stdout",
     "output_type": "stream",
     "text": [
      "h\n",
      "h\n"
     ]
    }
   ],
   "source": [
    "print(Students[7])\n",
    "print(Students[-1])"
   ]
  },
  {
   "cell_type": "code",
   "execution_count": 12,
   "metadata": {},
   "outputs": [
    {
     "name": "stdout",
     "output_type": "stream",
     "text": [
      "['h', 'g', 'f', 'e', 'd', 'c', 'b', 'a']\n"
     ]
    }
   ],
   "source": [
    "print(Students[::-1]) # printing the list in reverse order using negative indexing"
   ]
  },
  {
   "cell_type": "code",
   "execution_count": 14,
   "metadata": {},
   "outputs": [
    {
     "name": "stdout",
     "output_type": "stream",
     "text": [
      "0\n",
      "2\n",
      "4\n",
      "6\n",
      "8\n",
      "10\n",
      "12\n",
      "14\n",
      "16\n",
      "18\n"
     ]
    }
   ],
   "source": [
    "# Range function\n",
    "for val in range(0,20,2):\n",
    "    print(val)\n"
   ]
  },
  {
   "cell_type": "code",
   "execution_count": 23,
   "metadata": {},
   "outputs": [
    {
     "name": "stdout",
     "output_type": "stream",
     "text": [
      "1,\t2\n",
      "2,\t4\n",
      "3,\t6\n",
      "4,\t8\n",
      "5,\t10\n",
      "6,\t12\n",
      "7,\t14\n",
      "8,\t16\n",
      "9,\t18\n",
      "10,\t20\n",
      "11,\t22\n",
      "12,\t24\n",
      "13,\t26\n",
      "14,\t28\n",
      "15,\t30\n",
      "16,\t32\n",
      "17,\t34\n",
      "18,\t36\n",
      "19,\t38\n",
      "20,\t40\n",
      "21,\t42\n",
      "22,\t44\n",
      "23,\t46\n",
      "24,\t48\n",
      "25,\t50\n",
      "26,\t52\n",
      "27,\t54\n",
      "28,\t56\n",
      "29,\t58\n"
     ]
    }
   ],
   "source": [
    "#Req print 30 numbers in the list\n",
    "#Req print first 30 even numbers\n",
    "for val in range (1,30):\n",
    "    print(f\"{val},\\t{val*2}\")"
   ]
  },
  {
   "cell_type": "code",
   "execution_count": null,
   "metadata": {},
   "outputs": [],
   "source": []
  },
  {
   "cell_type": "code",
   "execution_count": null,
   "metadata": {},
   "outputs": [],
   "source": []
  },
  {
   "cell_type": "code",
   "execution_count": null,
   "metadata": {},
   "outputs": [],
   "source": []
  }
 ],
 "metadata": {
  "kernelspec": {
   "display_name": "Python 3",
   "language": "python",
   "name": "python3"
  },
  "language_info": {
   "codemirror_mode": {
    "name": "ipython",
    "version": 3
   },
   "file_extension": ".py",
   "mimetype": "text/x-python",
   "name": "python",
   "nbconvert_exporter": "python",
   "pygments_lexer": "ipython3",
   "version": "3.7.6"
  }
 },
 "nbformat": 4,
 "nbformat_minor": 4
}
