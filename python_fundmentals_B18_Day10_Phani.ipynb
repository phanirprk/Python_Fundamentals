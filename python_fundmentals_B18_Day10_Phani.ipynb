{
 "cells": [
  {
   "cell_type": "code",
   "execution_count": 1,
   "metadata": {},
   "outputs": [],
   "source": [
    "#Day 10 - Looping through Dictionaries"
   ]
  },
  {
   "cell_type": "code",
   "execution_count": 2,
   "metadata": {},
   "outputs": [
    {
     "name": "stdout",
     "output_type": "stream",
     "text": [
      "{'f_name': 'abc', 'l_name': 'xyz', 'username': 'abcxyz', 'pwd': 'abc123'}\n"
     ]
    }
   ],
   "source": [
    "user1 = {'f_name':'abc','l_name':'xyz','username':'abcxyz','pwd':'abc123'}\n",
    "print(user1)"
   ]
  },
  {
   "cell_type": "code",
   "execution_count": 3,
   "metadata": {},
   "outputs": [
    {
     "name": "stdout",
     "output_type": "stream",
     "text": [
      "Keys : f_name\n",
      "Values : abc\n",
      "\n",
      "Keys : l_name\n",
      "Values : xyz\n",
      "\n",
      "Keys : username\n",
      "Values : abcxyz\n",
      "\n",
      "Keys : pwd\n",
      "Values : abc123\n",
      "\n"
     ]
    }
   ],
   "source": [
    "# Looping through dict datatype\n",
    "for a,b in user1.items():\n",
    "        print(f\"Keys : {a}\")\n",
    "        print(f\"Values : {b}\\n\")\n",
    "              "
   ]
  },
  {
   "cell_type": "code",
   "execution_count": 4,
   "metadata": {},
   "outputs": [
    {
     "name": "stdout",
     "output_type": "stream",
     "text": [
      "Keys : f_name\n",
      "\n",
      "Keys : l_name\n",
      "\n",
      "Keys : username\n",
      "\n",
      "Keys : pwd\n",
      "\n"
     ]
    }
   ],
   "source": [
    "# Output only keys \n",
    "for a in user1.keys():\n",
    "    print(f\"Keys : {a}\\n\")\n",
    "    "
   ]
  },
  {
   "cell_type": "code",
   "execution_count": 5,
   "metadata": {},
   "outputs": [
    {
     "name": "stdout",
     "output_type": "stream",
     "text": [
      "Values : abc\n",
      "\n",
      "Values : xyz\n",
      "\n",
      "Values : abcxyz\n",
      "\n",
      "Values : abc123\n",
      "\n"
     ]
    }
   ],
   "source": [
    "# Output only values\n",
    "for a in user1.values():\n",
    "    print(f\"Values : {a}\\n\")"
   ]
  },
  {
   "cell_type": "code",
   "execution_count": 6,
   "metadata": {},
   "outputs": [
    {
     "name": "stdout",
     "output_type": "stream",
     "text": [
      "{'ashok': 'c', 'ravali': 'python', 'satya': 'pascal', 'suresh': 'python', 'devi': 'cobol'}\n"
     ]
    },
    {
     "data": {
      "text/plain": [
       "dict"
      ]
     },
     "execution_count": 6,
     "metadata": {},
     "output_type": "execute_result"
    }
   ],
   "source": [
    "# Req: Conducting a survey for a group of students - choose their fav language:\n",
    "fav_lang = {'ashok':'c','ravali':'python','satya':'pascal','suresh':'python','devi':'cobol'}\n",
    "print(fav_lang)\n",
    "type(fav_lang)"
   ]
  },
  {
   "cell_type": "code",
   "execution_count": 7,
   "metadata": {},
   "outputs": [
    {
     "name": "stdout",
     "output_type": "stream",
     "text": [
      "Enter your name ashok\n",
      "Enter your fav language (C, cobol, Pascal, Python)c\n",
      "Enter your name ravali\n",
      "Enter your fav language (C, cobol, Pascal, Python)python\n",
      "Enter your name devi\n",
      "Enter your fav language (C, cobol, Pascal, Python)pascal\n",
      "Enter your name suresh\n",
      "Enter your fav language (C, cobol, Pascal, Python)cobol\n",
      "Enter your name satya\n",
      "Enter your fav language (C, cobol, Pascal, Python)cobol\n",
      "Ashok's favourite language is C\n",
      "Ravali's favourite language is Python\n",
      "Satya's favourite language is Pascal\n",
      "Suresh's favourite language is Python\n",
      "\n",
      "Devi's favourite language is COBOL\n"
     ]
    }
   ],
   "source": [
    "# Get the name and fav lang from the user and output names with title case and cobol with upper case \n",
    "for a,b in fav_lang.items():\n",
    "    a = input('Enter your name ')\n",
    "    b = input('Enter your fav language (C, cobol, Pascal, Python)')\n",
    "    \n",
    "\n",
    "for name, language in fav_lang.items():\n",
    "    if language == 'cobol':\n",
    "        print(f\"\\n{name.title()}'s favourite language is {language.upper()}\")\n",
    "    else:\n",
    "        print(f\"\\n{name.title()}'s favourite language is {language.title()}\")"
   ]
  },
  {
   "cell_type": "code",
   "execution_count": null,
   "metadata": {},
   "outputs": [],
   "source": [
    "\n",
    "\n"
   ]
  }
 ],
 "metadata": {
  "kernelspec": {
   "display_name": "Python 3",
   "language": "python",
   "name": "python3"
  },
  "language_info": {
   "codemirror_mode": {
    "name": "ipython",
    "version": 3
   },
   "file_extension": ".py",
   "mimetype": "text/x-python",
   "name": "python",
   "nbconvert_exporter": "python",
   "pygments_lexer": "ipython3",
   "version": "3.7.6"
  }
 },
 "nbformat": 4,
 "nbformat_minor": 4
}
