{
 "cells": [
  {
   "cell_type": "code",
   "execution_count": 1,
   "metadata": {},
   "outputs": [],
   "source": [
    "# Day 4 n 5 "
   ]
  },
  {
   "cell_type": "code",
   "execution_count": 2,
   "metadata": {},
   "outputs": [],
   "source": [
    "# Organising the list"
   ]
  },
  {
   "cell_type": "code",
   "execution_count": 3,
   "metadata": {},
   "outputs": [],
   "source": [
    "cars = ['bmw','maruti','ford','kia','fiat', 'nissan','benz']"
   ]
  },
  {
   "cell_type": "code",
   "execution_count": 4,
   "metadata": {},
   "outputs": [
    {
     "name": "stdout",
     "output_type": "stream",
     "text": [
      "['bmw', 'maruti', 'ford', 'kia', 'fiat', 'nissan', 'benz']\n"
     ]
    }
   ],
   "source": [
    "print(cars)"
   ]
  },
  {
   "cell_type": "code",
   "execution_count": 5,
   "metadata": {},
   "outputs": [
    {
     "name": "stdout",
     "output_type": "stream",
     "text": [
      "['benz', 'bmw', 'fiat', 'ford', 'kia', 'maruti', 'nissan']\n"
     ]
    }
   ],
   "source": [
    "print(sorted(cars)) # temporary sort"
   ]
  },
  {
   "cell_type": "code",
   "execution_count": 6,
   "metadata": {},
   "outputs": [
    {
     "data": {
      "text/plain": [
       "['bmw', 'maruti', 'ford', 'kia', 'fiat', 'nissan', 'benz']"
      ]
     },
     "execution_count": 6,
     "metadata": {},
     "output_type": "execute_result"
    }
   ],
   "source": [
    "cars"
   ]
  },
  {
   "cell_type": "code",
   "execution_count": 7,
   "metadata": {},
   "outputs": [],
   "source": [
    "cars.sort() # permanent sort"
   ]
  },
  {
   "cell_type": "code",
   "execution_count": 8,
   "metadata": {},
   "outputs": [
    {
     "name": "stdout",
     "output_type": "stream",
     "text": [
      "['benz', 'bmw', 'fiat', 'ford', 'kia', 'maruti', 'nissan']\n"
     ]
    }
   ],
   "source": [
    "print(cars)"
   ]
  },
  {
   "cell_type": "code",
   "execution_count": 11,
   "metadata": {},
   "outputs": [
    {
     "data": {
      "text/plain": [
       "['nissan', 'maruti', 'kia', 'ford', 'fiat', 'bmw', 'benz']"
      ]
     },
     "execution_count": 11,
     "metadata": {},
     "output_type": "execute_result"
    }
   ],
   "source": [
    "cars.reverse()\n",
    "cars"
   ]
  },
  {
   "cell_type": "code",
   "execution_count": 14,
   "metadata": {},
   "outputs": [
    {
     "data": {
      "text/plain": [
       "7"
      ]
     },
     "execution_count": 14,
     "metadata": {},
     "output_type": "execute_result"
    }
   ],
   "source": [
    "len(cars) # to get the number of elements in the list"
   ]
  },
  {
   "cell_type": "code",
   "execution_count": null,
   "metadata": {},
   "outputs": [],
   "source": [
    "# Intro to for loops"
   ]
  },
  {
   "cell_type": "code",
   "execution_count": null,
   "metadata": {},
   "outputs": [],
   "source": [
    "# general Syntax for loop \n",
    "# for tempvar in mainvar:\n",
    "    # print(tempvar)"
   ]
  },
  {
   "cell_type": "code",
   "execution_count": 15,
   "metadata": {},
   "outputs": [
    {
     "name": "stdout",
     "output_type": "stream",
     "text": [
      "Nissan\n",
      "Maruti\n",
      "Kia\n",
      "Ford\n",
      "Fiat\n",
      "Bmw\n",
      "Benz\n"
     ]
    }
   ],
   "source": [
    "for car in cars:\n",
    "    print(car.title())\n",
    "    "
   ]
  },
  {
   "cell_type": "code",
   "execution_count": 20,
   "metadata": {},
   "outputs": [
    {
     "name": "stdout",
     "output_type": "stream",
     "text": [
      "Your car ,nissan, is due for service next Week\n",
      "Your car ,maruti, is due for service next Week\n",
      "Your car ,kia, is due for service next Week\n",
      "Your car ,ford, is due for service next Week\n",
      "Your car ,fiat, is due for service next Week\n",
      "Your car ,bmw, is due for service next Week\n",
      "Your car ,benz, is due for service next Week\n"
     ]
    }
   ],
   "source": [
    "for abc in cars:\n",
    "    print(f\"Your car ,{abc}, is due for service next Week\")"
   ]
  },
  {
   "cell_type": "code",
   "execution_count": 23,
   "metadata": {},
   "outputs": [
    {
     "name": "stdout",
     "output_type": "stream",
     "text": [
      "Your car, Nissan is due for service next Week\n",
      "Your car, Maruti is due for service next Week\n",
      "Your car, Kia is due for service next Week\n",
      "Your car, Ford is due for service next Week\n",
      "Your car, Fiat is due for service next Week\n",
      "Your car, Bmw is due for service next Week\n",
      "Your car, Benz is due for service next Week\n"
     ]
    }
   ],
   "source": [
    "for abc in cars:\n",
    "    print(f\"Your car, {abc.title()} is due for service next Week\")"
   ]
  },
  {
   "cell_type": "code",
   "execution_count": 26,
   "metadata": {},
   "outputs": [
    {
     "name": "stdout",
     "output_type": "stream",
     "text": [
      "Your car, Nissan is due for service next week. \n",
      "Kindly take your Nissan to the nearest service center. \n",
      "\n",
      "Your car, Maruti is due for service next week. \n",
      "Kindly take your Maruti to the nearest service center. \n",
      "\n",
      "Your car, Kia is due for service next week. \n",
      "Kindly take your Kia to the nearest service center. \n",
      "\n",
      "Your car, Ford is due for service next week. \n",
      "Kindly take your Ford to the nearest service center. \n",
      "\n",
      "Your car, Fiat is due for service next week. \n",
      "Kindly take your Fiat to the nearest service center. \n",
      "\n",
      "Your car, Bmw is due for service next week. \n",
      "Kindly take your Bmw to the nearest service center. \n",
      "\n",
      "Your car, Benz is due for service next week. \n",
      "Kindly take your Benz to the nearest service center. \n",
      "\n"
     ]
    }
   ],
   "source": [
    "for abc in cars:\n",
    "    print(f\"Your car, {abc.title()} is due for service next week. \\nKindly take your {abc.title()} to the nearest service center. \\n\")"
   ]
  },
  {
   "cell_type": "code",
   "execution_count": 35,
   "metadata": {},
   "outputs": [
    {
     "name": "stdout",
     "output_type": "stream",
     "text": [
      "Your car, Nissan is due for service next week. \n",
      "Kindly take your Nissan to the nearest service center. \n",
      "\n",
      "Your car, Maruti is due for service next week. \n",
      "Kindly take your Maruti to the nearest service center. \n",
      "\n",
      "Your car, KIA is due for service next week. \n",
      "Kindly take your KIA to the nearest service center. \n",
      "\n",
      "Your car, Ford is due for service next week. \n",
      "Kindly take your Ford to the nearest service center. \n",
      "\n",
      "Your car, Fiat is due for service next week. \n",
      "Kindly take your Fiat to the nearest service center. \n",
      "\n",
      "Your car, BMW is due for service next week. \n",
      "Kindly take your BMW to the nearest service center. \n",
      "\n",
      "Your car, Benz is due for service next week. \n",
      "Kindly take your Benz to the nearest service center. \n",
      "\n"
     ]
    }
   ],
   "source": [
    "for abc in cars:\n",
    "    if abc == 'bmw':\n",
    "        print(f\"Your car, {abc.upper()} is due for service next week. \\nKindly take your {abc.upper()} to the nearest service center. \\n\")\n",
    "    elif abc =='kia':\n",
    "        print(f\"Your car, {abc.upper()} is due for service next week. \\nKindly take your {abc.upper()} to the nearest service center. \\n\")\n",
    "    else:\n",
    "        print(f\"Your car, {abc.title()} is due for service next week. \\nKindly take your {abc.title()} to the nearest service center. \\n\")\n",
    "            "
   ]
  },
  {
   "cell_type": "code",
   "execution_count": 45,
   "metadata": {},
   "outputs": [
    {
     "name": "stdout",
     "output_type": "stream",
     "text": [
      "Kia\n",
      "Ford\n",
      "Fiat\n"
     ]
    }
   ],
   "source": [
    "for a in range(2,5): # Range funtion returns a sequence of numbers, starting from 0\n",
    "    print(cars[a].title())\n"
   ]
  },
  {
   "cell_type": "code",
   "execution_count": null,
   "metadata": {},
   "outputs": [],
   "source": []
  }
 ],
 "metadata": {
  "kernelspec": {
   "display_name": "Python 3",
   "language": "python",
   "name": "python3"
  },
  "language_info": {
   "codemirror_mode": {
    "name": "ipython",
    "version": 3
   },
   "file_extension": ".py",
   "mimetype": "text/x-python",
   "name": "python",
   "nbconvert_exporter": "python",
   "pygments_lexer": "ipython3",
   "version": "3.7.6"
  }
 },
 "nbformat": 4,
 "nbformat_minor": 4
}
