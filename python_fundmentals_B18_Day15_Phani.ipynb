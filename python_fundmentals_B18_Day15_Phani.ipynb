{
 "cells": [
  {
   "cell_type": "code",
   "execution_count": 1,
   "metadata": {},
   "outputs": [],
   "source": [
    "# Day 15 - Introduction to constructors\n",
    "# A constructor is used to initialise the things or invoke the things"
   ]
  },
  {
   "cell_type": "code",
   "execution_count": 2,
   "metadata": {},
   "outputs": [],
   "source": [
    "# Req Design a Dog class\n",
    "# It needs to accept name and age of the dog.\n",
    "# Sit method, Roll over method, Sleep method."
   ]
  },
  {
   "cell_type": "code",
   "execution_count": 3,
   "metadata": {},
   "outputs": [],
   "source": [
    "# We have to use double underscore for a constructor."
   ]
  },
  {
   "cell_type": "code",
   "execution_count": 4,
   "metadata": {},
   "outputs": [],
   "source": [
    "class Dog:\n",
    "    \"\"\" A simple attempt to initialise a dog with name and age\"\"\"\n",
    "    def __init__(self, name, age):\n",
    "        \"\"\"Initialise name and age of a dog\"\"\"\n",
    "        self.name = name\n",
    "        self.age = age\n",
    "        print(f\"Your dog with name {self.name} with age, {self.age} got initialised.\")\n",
    "    \n",
    "    def sit_method(self):\n",
    "        \"\"\" Simulate sitting response to a command\"\"\"\n",
    "        print(f\"{self.name.title()} is sitting.\")\n",
    "        \n",
    "    def roll_over_method(self):\n",
    "        \"\"\" Simulate Rolling over response to a command\"\"\"\n",
    "        print(f\"{self.name.title()} is rolling over.\")\n",
    "    \n",
    "    def sleep_method(self):\n",
    "        \"\"\" Simulate sleeping response to a command\"\"\"\n",
    "        print(f\"{self.name.title()} is sleeping.\")\n",
    "        \n",
    "        "
   ]
  },
  {
   "cell_type": "code",
   "execution_count": 5,
   "metadata": {},
   "outputs": [
    {
     "name": "stdout",
     "output_type": "stream",
     "text": [
      "Your dog with name Rex with age, 2 got initialised.\n"
     ]
    }
   ],
   "source": [
    "aobj = Dog('Rex',2) # Run time passing of an argument"
   ]
  },
  {
   "cell_type": "code",
   "execution_count": 6,
   "metadata": {},
   "outputs": [
    {
     "name": "stdout",
     "output_type": "stream",
     "text": [
      "Rex is sitting.\n"
     ]
    }
   ],
   "source": [
    "aobj.sit_method()"
   ]
  },
  {
   "cell_type": "code",
   "execution_count": 7,
   "metadata": {},
   "outputs": [
    {
     "name": "stdout",
     "output_type": "stream",
     "text": [
      "Rex is rolling over.\n"
     ]
    }
   ],
   "source": [
    "aobj.roll_over_method()"
   ]
  },
  {
   "cell_type": "code",
   "execution_count": 8,
   "metadata": {},
   "outputs": [
    {
     "name": "stdout",
     "output_type": "stream",
     "text": [
      "Rex is sleeping.\n"
     ]
    }
   ],
   "source": [
    "aobj.sleep_method()"
   ]
  },
  {
   "cell_type": "code",
   "execution_count": null,
   "metadata": {},
   "outputs": [],
   "source": []
  },
  {
   "cell_type": "code",
   "execution_count": null,
   "metadata": {},
   "outputs": [],
   "source": []
  },
  {
   "cell_type": "code",
   "execution_count": null,
   "metadata": {},
   "outputs": [],
   "source": []
  },
  {
   "cell_type": "code",
   "execution_count": null,
   "metadata": {},
   "outputs": [],
   "source": []
  }
 ],
 "metadata": {
  "kernelspec": {
   "display_name": "Python 3",
   "language": "python",
   "name": "python3"
  },
  "language_info": {
   "codemirror_mode": {
    "name": "ipython",
    "version": 3
   },
   "file_extension": ".py",
   "mimetype": "text/x-python",
   "name": "python",
   "nbconvert_exporter": "python",
   "pygments_lexer": "ipython3",
   "version": "3.7.6"
  }
 },
 "nbformat": 4,
 "nbformat_minor": 4
}
