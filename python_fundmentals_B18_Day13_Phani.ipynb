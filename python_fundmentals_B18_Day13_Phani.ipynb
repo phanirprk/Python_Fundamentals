{
 "cells": [
  {
   "cell_type": "code",
   "execution_count": null,
   "metadata": {},
   "outputs": [],
   "source": [
    "# Day 12 - Return value of a function"
   ]
  },
  {
   "cell_type": "code",
   "execution_count": null,
   "metadata": {},
   "outputs": [],
   "source": [
    "# Req - Accept first name and last name from the user and return the full name in a formatted  =manner"
   ]
  },
  {
   "cell_type": "code",
   "execution_count": 2,
   "metadata": {},
   "outputs": [],
   "source": [
    "def get_formatted_name(f_name,l_name):\n",
    "    \"\"\"Return a formatted name in title case\"\"\"\n",
    "    full_name = f\"{f_name} {l_name}\"\n",
    "    return full_name.title()\n"
   ]
  },
  {
   "cell_type": "code",
   "execution_count": 4,
   "metadata": {},
   "outputs": [
    {
     "data": {
      "text/plain": [
       "'Donald Trump'"
      ]
     },
     "execution_count": 4,
     "metadata": {},
     "output_type": "execute_result"
    }
   ],
   "source": [
    "get_formatted_name('donald','trump')"
   ]
  },
  {
   "cell_type": "code",
   "execution_count": 5,
   "metadata": {},
   "outputs": [
    {
     "data": {
      "text/plain": [
       "'Phani R'"
      ]
     },
     "execution_count": 5,
     "metadata": {},
     "output_type": "execute_result"
    }
   ],
   "source": [
    "student = get_formatted_name('phani','r') # you can assign the returned value of a function to a variable\n",
    "student"
   ]
  },
  {
   "cell_type": "code",
   "execution_count": 17,
   "metadata": {},
   "outputs": [],
   "source": [
    "# returning a dictionary\n",
    "def get_person_details(f_name,l_name,pwd):\n",
    "    \"\"\"return a person details as a dict\"\"\"\n",
    "    person = {'first':f_name, 'last':l_name,'fullname':f\"{f_name.title()} {l_name.title()}\",'password':pwd}\n",
    "    return person\n"
   ]
  },
  {
   "cell_type": "code",
   "execution_count": 18,
   "metadata": {},
   "outputs": [
    {
     "data": {
      "text/plain": [
       "{'first': 'donald',\n",
       " 'last': 'trump',\n",
       " 'fullname': 'Donald Trump',\n",
       " 'password': 'abc123'}"
      ]
     },
     "execution_count": 18,
     "metadata": {},
     "output_type": "execute_result"
    }
   ],
   "source": [
    "get_person_details('donald','trump','abc123')"
   ]
  },
  {
   "cell_type": "code",
   "execution_count": 20,
   "metadata": {},
   "outputs": [
    {
     "name": "stdout",
     "output_type": "stream",
     "text": [
      "Happy New Year, A\n",
      "Happy New Year, B\n",
      "Happy New Year, C\n",
      "Happy New Year, D\n",
      "Happy New Year, E\n"
     ]
    }
   ],
   "source": [
    "# Send a greeting message to all the students using a function\n",
    "\n",
    "students = ['a','b','c','d','e']\n",
    "\n",
    "def greet_user(names):\n",
    "    \"\"\" Greet the users in \"\"\"\n",
    "    for name in names:\n",
    "        msg = f\"Happy New Year, {name.title()}\" # You can assign \n",
    "        print(msg)\n",
    "        \n",
    "greet_user(students)\n",
    "        "
   ]
  },
  {
   "cell_type": "code",
   "execution_count": 24,
   "metadata": {},
   "outputs": [],
   "source": [
    "def make_pizza(*topping):  # * makes it an arbitary argument, which implies any no. of arguments can be passed.\n",
    "    \"\"\"Print the ordered Topping\"\"\"\n",
    "    print(topping)\n",
    "    "
   ]
  },
  {
   "cell_type": "code",
   "execution_count": 25,
   "metadata": {},
   "outputs": [
    {
     "name": "stdout",
     "output_type": "stream",
     "text": [
      "('Pepperoni',)\n"
     ]
    }
   ],
   "source": [
    "make_pizza('Pepperoni')"
   ]
  },
  {
   "cell_type": "code",
   "execution_count": 27,
   "metadata": {},
   "outputs": [
    {
     "name": "stdout",
     "output_type": "stream",
     "text": [
      "('Pepperoni', 'Olives', 'cheese')\n"
     ]
    }
   ],
   "source": [
    "make_pizza('Pepperoni','Olives','cheese') # as the argument in the function is defined as an arbitary argument, \n",
    "# u can pass any no.of arguments"
   ]
  },
  {
   "cell_type": "code",
   "execution_count": null,
   "metadata": {},
   "outputs": [],
   "source": []
  }
 ],
 "metadata": {
  "kernelspec": {
   "display_name": "Python 3",
   "language": "python",
   "name": "python3"
  },
  "language_info": {
   "codemirror_mode": {
    "name": "ipython",
    "version": 3
   },
   "file_extension": ".py",
   "mimetype": "text/x-python",
   "name": "python",
   "nbconvert_exporter": "python",
   "pygments_lexer": "ipython3",
   "version": "3.7.6"
  }
 },
 "nbformat": 4,
 "nbformat_minor": 4
}
