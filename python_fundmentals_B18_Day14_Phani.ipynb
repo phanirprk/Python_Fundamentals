{
 "cells": [
  {
   "cell_type": "code",
   "execution_count": null,
   "metadata": {},
   "outputs": [],
   "source": [
    "# Day 13 - Introduction to classes in Python\n",
    "# A Class is a blueprint of a program.\n",
    "# A METHOD is a function written inside a CLASS\n",
    "# An ATTRIBUTE is a variable inside a CLASS\n",
    "# A SELF is a temporary place holder for an object\n",
    "# An OBJECT "
   ]
  },
  {
   "cell_type": "code",
   "execution_count": null,
   "metadata": {},
   "outputs": [],
   "source": [
    "# Requirement - Design a class, it needs to accept the input from the user,\n",
    "#1. Get username from the user\n",
    "#2. Display username\n",
    "#3. Greet the user\n",
    "# function and method name should be in small case, whereas Class should be in title case"
   ]
  },
  {
   "cell_type": "code",
   "execution_count": 7,
   "metadata": {},
   "outputs": [],
   "source": [
    "class Test: #class is a blueprint of a program\n",
    "    \"\"\" designing a simple class to the user profile\"\"\"\n",
    "    def createname(self,name): #method is a function written inside a CLASS; Giving the parameter as name.\n",
    "        self.name = name   #attribute  An ATTRIBUTE is a variable inside a CLASS\n",
    "        \n",
    "    def displayname(self): #method   \n",
    "        print(self.name)\n",
    "        \n",
    "    def greet(self): #method\n",
    "        print(f\"Hello, {self.name} welcome back\")\n",
    "   \n",
    "\n",
    "#class will not work without self"
   ]
  },
  {
   "cell_type": "code",
   "execution_count": 8,
   "metadata": {},
   "outputs": [
    {
     "name": "stdout",
     "output_type": "stream",
     "text": [
      "Priya\n",
      "Hello, Priya welcome back\n"
     ]
    }
   ],
   "source": [
    "xobj = Test()  # object is the key to access any variable in the class\n",
    "xobj.createname('Priya')\n",
    "xobj.displayname()\n",
    "xobj.greet()\n"
   ]
  },
  {
   "cell_type": "code",
   "execution_count": 9,
   "metadata": {},
   "outputs": [
    {
     "name": "stdout",
     "output_type": "stream",
     "text": [
      "abc\n",
      "Hello, abc welcome back\n"
     ]
    }
   ],
   "source": [
    "batman=Test()\n",
    "batman.createname('abc')\n",
    "batman.displayname()\n",
    "batman.greet()"
   ]
  },
  {
   "cell_type": "code",
   "execution_count": null,
   "metadata": {},
   "outputs": [],
   "source": []
  },
  {
   "cell_type": "code",
   "execution_count": null,
   "metadata": {},
   "outputs": [],
   "source": []
  },
  {
   "cell_type": "code",
   "execution_count": null,
   "metadata": {},
   "outputs": [],
   "source": []
  },
  {
   "cell_type": "code",
   "execution_count": null,
   "metadata": {},
   "outputs": [],
   "source": []
  },
  {
   "cell_type": "code",
   "execution_count": null,
   "metadata": {},
   "outputs": [],
   "source": []
  },
  {
   "cell_type": "code",
   "execution_count": null,
   "metadata": {},
   "outputs": [],
   "source": []
  }
 ],
 "metadata": {
  "kernelspec": {
   "display_name": "Python 3",
   "language": "python",
   "name": "python3"
  },
  "language_info": {
   "codemirror_mode": {
    "name": "ipython",
    "version": 3
   },
   "file_extension": ".py",
   "mimetype": "text/x-python",
   "name": "python",
   "nbconvert_exporter": "python",
   "pygments_lexer": "ipython3",
   "version": "3.7.6"
  }
 },
 "nbformat": 4,
 "nbformat_minor": 4
}
