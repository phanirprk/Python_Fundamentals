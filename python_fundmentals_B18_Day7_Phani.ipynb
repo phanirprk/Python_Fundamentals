{
 "cells": [
  {
   "cell_type": "code",
   "execution_count": null,
   "metadata": {},
   "outputs": [],
   "source": [
    "#Day 7 - April 30th - Understanding the user specified inputs"
   ]
  },
  {
   "cell_type": "code",
   "execution_count": 2,
   "metadata": {},
   "outputs": [
    {
     "name": "stdout",
     "output_type": "stream",
     "text": [
      "Print a message and I will repeat it back to youHello All\n",
      "Hello All\n"
     ]
    }
   ],
   "source": [
    "Message = input('Print a message and I will repeat it back to you')\n",
    "print(Message)"
   ]
  },
  {
   "cell_type": "code",
   "execution_count": null,
   "metadata": {},
   "outputs": [],
   "source": [
    "# Greet the user"
   ]
  },
  {
   "cell_type": "code",
   "execution_count": 4,
   "metadata": {},
   "outputs": [
    {
     "name": "stdout",
     "output_type": "stream",
     "text": [
      "Your Nameraj\n",
      "Good to see you back, raj\n"
     ]
    }
   ],
   "source": [
    "Name = input('Your Name')\n",
    "print(f\"Good to see you back, {Name}\")"
   ]
  },
  {
   "cell_type": "code",
   "execution_count": 7,
   "metadata": {},
   "outputs": [
    {
     "name": "stdout",
     "output_type": "stream",
     "text": [
      "Your Name raj\n",
      "Good to see you, Raj\n"
     ]
    }
   ],
   "source": [
    "Name = input('Your Name ')\n",
    "print(f\"Good to see you, {Name.title()}\")"
   ]
  },
  {
   "cell_type": "code",
   "execution_count": 11,
   "metadata": {},
   "outputs": [
    {
     "name": "stdout",
     "output_type": "stream",
     "text": [
      "Enter your height in inches 45\n",
      "45\n"
     ]
    },
    {
     "data": {
      "text/plain": [
       "False"
      ]
     },
     "execution_count": 11,
     "metadata": {},
     "output_type": "execute_result"
    }
   ],
   "source": [
    "Height = input('Enter your height in inches ')\n",
    "print(Height)\n",
    "type(Height)\n",
    "Height = int(Height)\n",
    "type(Height)\n",
    "Height>50"
   ]
  },
  {
   "cell_type": "code",
   "execution_count": 24,
   "metadata": {},
   "outputs": [
    {
     "name": "stdout",
     "output_type": "stream",
     "text": [
      "How old are you? 18\n",
      "Congrats, You are eligible to vote,\n",
      "Have you registered your name?\n"
     ]
    }
   ],
   "source": [
    "# Case Study - Build a simple voting application\n",
    "age = input( 'How old are you? ')\n",
    "age = int(age)\n",
    "# type(age)\n",
    "if age >= 18:\n",
    "    print(f\"Congrats, You are eligible to vote,\\nHave you registered your name?\")\n",
    "else:\n",
    "    print(f\"Sorry, You are not eligible to vote, try after {18-age} years\")\n",
    "    "
   ]
  },
  {
   "cell_type": "code",
   "execution_count": null,
   "metadata": {},
   "outputs": [],
   "source": []
  },
  {
   "cell_type": "code",
   "execution_count": null,
   "metadata": {},
   "outputs": [],
   "source": []
  },
  {
   "cell_type": "code",
   "execution_count": null,
   "metadata": {},
   "outputs": [],
   "source": []
  },
  {
   "cell_type": "code",
   "execution_count": null,
   "metadata": {},
   "outputs": [],
   "source": []
  }
 ],
 "metadata": {
  "kernelspec": {
   "display_name": "Python 3",
   "language": "python",
   "name": "python3"
  },
  "language_info": {
   "codemirror_mode": {
    "name": "ipython",
    "version": 3
   },
   "file_extension": ".py",
   "mimetype": "text/x-python",
   "name": "python",
   "nbconvert_exporter": "python",
   "pygments_lexer": "ipython3",
   "version": "3.7.6"
  }
 },
 "nbformat": 4,
 "nbformat_minor": 4
}
